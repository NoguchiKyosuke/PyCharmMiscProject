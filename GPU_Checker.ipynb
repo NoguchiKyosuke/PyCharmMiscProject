{
 "cells": [
  {
   "metadata": {},
   "cell_type": "markdown",
   "source": "# GPU可用性チェック\n",
   "id": "cf4e8cfc80913d4"
  },
  {
   "cell_type": "code",
   "id": "initial_id",
   "metadata": {
    "collapsed": true,
    "ExecuteTime": {
     "end_time": "2025-07-19T04:02:40.446106Z",
     "start_time": "2025-07-19T04:02:39.181616Z"
    }
   },
   "source": [
    "# GPUの使用可能性を確認\n",
    "import sys\n",
    "import subprocess\n",
    "import numpy\n",
    "\n",
    "# PyTorchでGPU確認\n",
    "try:\n",
    "    import torch\n",
    "    print(\"PyTorch:\")\n",
    "    print(f\"  Version: {torch.__version__}\")\n",
    "    print(f\"  CUDA Available: {torch.cuda.is_available()}\")\n",
    "    if torch.cuda.is_available():\n",
    "        print(f\"  CUDA Version: {torch.version.cuda}\")\n",
    "        print(f\"  GPU Count: {torch.cuda.device_count()}\")\n",
    "        for i in range(torch.cuda.device_count()):\n",
    "            print(f\"  GPU {i}: {torch.cuda.get_device_name(i)}\")\n",
    "    print()\n",
    "except ImportError:\n",
    "    print(\"PyTorch is not installed\")\n",
    "    print()\n",
    "\n",
    "# nvidia-smiコマンドでGPU情報確認\n",
    "try:\n",
    "    result = subprocess.run(['nvidia-smi'], capture_output=True, text=True)\n",
    "    if result.returncode == 0:\n",
    "        print(\"nvidia-smi output:\")\n",
    "        print(result.stdout)\n",
    "    else:\n",
    "        print(\"nvidia-smi command failed or NVIDIA GPU not found\")\n",
    "except FileNotFoundError:\n",
    "    print(\"nvidia-smi command not found (NVIDIA drivers may not be installed)\")\n"
   ],
   "outputs": [
    {
     "name": "stdout",
     "output_type": "stream",
     "text": [
      "PyTorch:\n",
      "  Version: 2.7.1+cu126\n",
      "  CUDA Available: True\n",
      "  CUDA Version: 12.6\n",
      "  GPU Count: 1\n",
      "  GPU 0: NVIDIA GeForce RTX 4070 SUPER\n",
      "\n",
      "nvidia-smi output:\n",
      "Sat Jul 19 13:02:40 2025       \n",
      "+-----------------------------------------------------------------------------------------+\n",
      "| NVIDIA-SMI 570.158.01             Driver Version: 570.158.01     CUDA Version: 12.8     |\n",
      "|-----------------------------------------+------------------------+----------------------+\n",
      "| GPU  Name                 Persistence-M | Bus-Id          Disp.A | Volatile Uncorr. ECC |\n",
      "| Fan  Temp   Perf          Pwr:Usage/Cap |           Memory-Usage | GPU-Util  Compute M. |\n",
      "|                                         |                        |               MIG M. |\n",
      "|=========================================+========================+======================|\n",
      "|   0  NVIDIA GeForce RTX 4070 ...    Off |   00000000:01:00.0  On |                  N/A |\n",
      "|  0%   41C    P8             11W /  220W |     482MiB /  12282MiB |      3%      Default |\n",
      "|                                         |                        |                  N/A |\n",
      "+-----------------------------------------+------------------------+----------------------+\n",
      "                                                                                         \n",
      "+-----------------------------------------------------------------------------------------+\n",
      "| Processes:                                                                              |\n",
      "|  GPU   GI   CI              PID   Type   Process name                        GPU Memory |\n",
      "|        ID   ID                                                               Usage      |\n",
      "|=========================================================================================|\n",
      "|    0   N/A  N/A            1543      G   /usr/lib/xorg/Xorg                      213MiB |\n",
      "|    0   N/A  N/A            1774      G   /usr/bin/gnome-shell                    112MiB |\n",
      "|    0   N/A  N/A            2597      G   ...144 --variations-seed-version         83MiB |\n",
      "|    0   N/A  N/A            3820      G   ...ess --variations-seed-version         32MiB |\n",
      "+-----------------------------------------------------------------------------------------+\n",
      "\n"
     ]
    }
   ],
   "execution_count": 1
  }
 ],
 "metadata": {
  "kernelspec": {
   "display_name": "Python 3",
   "language": "python",
   "name": "python3"
  },
  "language_info": {
   "codemirror_mode": {
    "name": "ipython",
    "version": 2
   },
   "file_extension": ".py",
   "mimetype": "text/x-python",
   "name": "python",
   "nbconvert_exporter": "python",
   "pygments_lexer": "ipython2",
   "version": "2.7.6"
  }
 },
 "nbformat": 4,
 "nbformat_minor": 5
}
