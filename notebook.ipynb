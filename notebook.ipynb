{
 "cells": [
  {
   "metadata": {},
   "cell_type": "markdown",
   "source": "# GPU可用性チェック\n",
   "id": "c1556f4ba6bb3c56"
  },
  {
   "metadata": {
    "ExecuteTime": {
     "end_time": "2025-07-19T00:27:10.945653Z",
     "start_time": "2025-07-19T00:27:10.748385Z"
    }
   },
   "cell_type": "code",
   "source": [
    "# GPUの使用可能性を確認\n",
    "import sys\n",
    "import subprocess\n",
    "import numpy\n",
    "\n",
    "# PyTorchでGPU確認\n",
    "try:\n",
    "    import torch\n",
    "    print(\"PyTorch:\")\n",
    "    print(f\"  Version: {torch.__version__}\")\n",
    "    print(f\"  CUDA Available: {torch.cuda.is_available()}\")\n",
    "    if torch.cuda.is_available():\n",
    "        print(f\"  CUDA Version: {torch.version.cuda}\")\n",
    "        print(f\"  GPU Count: {torch.cuda.device_count()}\")\n",
    "        for i in range(torch.cuda.device_count()):\n",
    "            print(f\"  GPU {i}: {torch.cuda.get_device_name(i)}\")\n",
    "    print()\n",
    "except ImportError:\n",
    "    print(\"PyTorch is not installed\")\n",
    "    print()\n",
    "\n",
    "# nvidia-smiコマンドでGPU情報確認\n",
    "try:\n",
    "    result = subprocess.run(['nvidia-smi'], capture_output=True, text=True)\n",
    "    if result.returncode == 0:\n",
    "        print(\"nvidia-smi output:\")\n",
    "        print(result.stdout)\n",
    "    else:\n",
    "        print(\"nvidia-smi command failed or NVIDIA GPU not found\")\n",
    "except FileNotFoundError:\n",
    "    print(\"nvidia-smi command not found (NVIDIA drivers may not be installed)\")\n"
   ],
   "id": "8542bc45adb5c9ea",
   "outputs": [
    {
     "name": "stdout",
     "output_type": "stream",
     "text": [
      "PyTorch:\n",
      "  Version: 2.7.1+cu126\n",
      "  CUDA Available: True\n",
      "  CUDA Version: 12.6\n",
      "  GPU Count: 1\n",
      "  GPU 0: NVIDIA GeForce RTX 4070 SUPER\n",
      "\n",
      "nvidia-smi output:\n",
      "Sat Jul 19 09:27:10 2025       \n",
      "+-----------------------------------------------------------------------------------------+\n",
      "| NVIDIA-SMI 570.133.07             Driver Version: 570.133.07     CUDA Version: 12.8     |\n",
      "|-----------------------------------------+------------------------+----------------------+\n",
      "| GPU  Name                 Persistence-M | Bus-Id          Disp.A | Volatile Uncorr. ECC |\n",
      "| Fan  Temp   Perf          Pwr:Usage/Cap |           Memory-Usage | GPU-Util  Compute M. |\n",
      "|                                         |                        |               MIG M. |\n",
      "|=========================================+========================+======================|\n",
      "|   0  NVIDIA GeForce RTX 4070 ...    Off |   00000000:01:00.0  On |                  N/A |\n",
      "|  0%   53C    P5             19W /  220W |     515MiB /  12282MiB |     18%      Default |\n",
      "|                                         |                        |                  N/A |\n",
      "+-----------------------------------------+------------------------+----------------------+\n",
      "                                                                                         \n",
      "+-----------------------------------------------------------------------------------------+\n",
      "| Processes:                                                                              |\n",
      "|  GPU   GI   CI              PID   Type   Process name                        GPU Memory |\n",
      "|        ID   ID                                                               Usage      |\n",
      "|=========================================================================================|\n",
      "|    0   N/A  N/A            1696      G   /usr/lib/xorg/Xorg                      225MiB |\n",
      "|    0   N/A  N/A            1913      G   /usr/bin/gnome-shell                     99MiB |\n",
      "|    0   N/A  N/A            3041      G   /opt/microsoft/msedge/msedge              3MiB |\n",
      "|    0   N/A  N/A           25508      G   /opt/microsoft/msedge/msedge              3MiB |\n",
      "|    0   N/A  N/A           25565      G   ...144 --variations-seed-version         81MiB |\n",
      "|    0   N/A  N/A           25735      G   ...ess --variations-seed-version         44MiB |\n",
      "+-----------------------------------------------------------------------------------------+\n",
      "\n"
     ]
    }
   ],
   "execution_count": 4
  },
  {
   "metadata": {},
   "cell_type": "markdown",
   "source": "参考文献: <https://qiita.com/cvusk/items/61cdbce80785eaf28349>",
   "id": "9594546684a0405f"
  },
  {
   "metadata": {
    "ExecuteTime": {
     "end_time": "2025-07-19T00:34:59.920856Z",
     "start_time": "2025-07-19T00:34:58.940640Z"
    }
   },
   "cell_type": "code",
   "source": [
    "import os\n",
    "import random\n",
    "import numpy as np\n",
    "import pandas as pd\n",
    "import librosa as pd\n",
    "import librosa.display\n",
    "import matplotlib.pyplot as plt\n",
    "import seaborn as sn\n",
    "from sklearn import model_selection\n",
    "from sklearn import preprocessing\n",
    "import IPython.display as ipd"
   ],
   "id": "2c0017aab03a11ef",
   "outputs": [],
   "execution_count": 5
  },
  {
   "metadata": {},
   "cell_type": "code",
   "outputs": [],
   "execution_count": null,
   "source": [
    "\n",
    "\n",
    "base_dir = \"./\"\n",
    "esc_dir = ps.path.join(base_dir, \"ESC-50-master\")\n"
   ],
   "id": "38fd41e1665891c1"
  }
 ],
 "metadata": {
  "kernelspec": {
   "display_name": "Python 3",
   "language": "python",
   "name": "python3"
  },
  "language_info": {
   "codemirror_mode": {
    "name": "ipython",
    "version": 2
   },
   "file_extension": ".py",
   "mimetype": "text/x-python",
   "name": "python",
   "nbconvert_exporter": "python",
   "pygments_lexer": "ipython2",
   "version": "2.7.6"
  }
 },
 "nbformat": 4,
 "nbformat_minor": 5
}
